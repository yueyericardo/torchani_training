{
 "cells": [
  {
   "cell_type": "code",
   "execution_count": 1,
   "metadata": {},
   "outputs": [],
   "source": [
    "import math\n",
    "import os\n",
    "import torch\n",
    "import torchani\n",
    "import ase\n",
    "import numpy as np\n",
    "from ase.build import molecule\n",
    "\n",
    "device = torch.device('cuda' if torch.cuda.is_available() else 'cpu')\n",
    "\n",
    "Rcr = 5.2000e+00\n",
    "Rca = 3.5000e+00\n",
    "EtaR = torch.tensor([1.6000000e+01], device=device)\n",
    "ShfR = torch.tensor([9.0000000e-01, 1.1687500e+00, 1.4375000e+00, 1.7062500e+00, 1.9750000e+00, 2.2437500e+00, 2.5125000e+00, 2.7812500e+00, 3.0500000e+00, 3.3187500e+00, 3.5875000e+00, 3.8562500e+00, 4.1250000e+00, 4.3937500e+00, 4.6625000e+00, 4.9312500e+00], device=device)\n",
    "Zeta = torch.tensor([3.2000000e+01], device=device)\n",
    "ShfZ = torch.tensor([1.9634954e-01, 5.8904862e-01, 9.8174770e-01, 1.3744468e+00, 1.7671459e+00, 2.1598449e+00, 2.5525440e+00, 2.9452431e+00], device=device)\n",
    "EtaA = torch.tensor([8.0000000e+00], device=device)\n",
    "ShfA = torch.tensor([9.0000000e-01, 1.5500000e+00, 2.2000000e+00, 2.8500000e+00], device=device)\n",
    "num_species = 4\n",
    "\n",
    "# AEV computer\n",
    "aev_computer = torchani.AEVComputer(Rcr, Rca, EtaR, ShfR, EtaA, Zeta, ShfA, ShfZ, num_species)"
   ]
  },
  {
   "cell_type": "code",
   "execution_count": 2,
   "metadata": {},
   "outputs": [],
   "source": [
    "def spe_to_int(ipt):\n",
    "    opt = []\n",
    "    dic = 'HCNO'\n",
    "    for s in ipt:\n",
    "        for i, c in enumerate([1, 6, 7, 8]):\n",
    "            if s == c:\n",
    "                opt.append(i)\n",
    "                # print(dic[i], end=' ')\n",
    "    return np.array(opt)"
   ]
  },
  {
   "cell_type": "markdown",
   "metadata": {},
   "source": [
    "### Example 1 (single molecule with ASE)"
   ]
  },
  {
   "cell_type": "code",
   "execution_count": 3,
   "metadata": {},
   "outputs": [
    {
     "name": "stdout",
     "output_type": "stream",
     "text": [
      "tensor([[1, 0, 0, 0, 0]], device='cuda:0')\n",
      "tensor([[[ 0.0319,  0.0064,  0.0130],\n",
      "         [-0.8314,  0.3937, -0.2640],\n",
      "         [-0.6652, -0.8446,  0.2076],\n",
      "         [ 0.4555,  0.5429,  0.8117],\n",
      "         [ 0.6609, -0.1680, -0.9104]]], device='cuda:0', dtype=torch.float64,\n",
      "       requires_grad=True)\n",
      "Species: tensor([[1, 0, 0, 0, 0]], device='cuda:0')\n",
      "AEV: tensor([[[5.5878e-01, 7.4497e-01, 1.2186e-01,  ..., 0.0000e+00,\n",
      "          0.0000e+00, 0.0000e+00],\n",
      "         [1.0193e-02, 1.3975e-01, 3.0345e-01,  ..., 0.0000e+00,\n",
      "          0.0000e+00, 0.0000e+00],\n",
      "         [1.0179e-02, 1.3571e-01, 1.9645e-01,  ..., 0.0000e+00,\n",
      "          0.0000e+00, 0.0000e+00],\n",
      "         [1.0318e-05, 2.8428e-03, 8.7990e-02,  ..., 0.0000e+00,\n",
      "          0.0000e+00, 0.0000e+00],\n",
      "         [4.0563e-06, 1.5859e-03, 7.0698e-02,  ..., 0.0000e+00,\n",
      "          0.0000e+00, 0.0000e+00]]], device='cuda:0', dtype=torch.float64,\n",
      "       grad_fn=<CatBackward>)\n",
      "AEV Length: 384\n",
      "AEV Shape: torch.Size([1, 5, 384])\n"
     ]
    }
   ],
   "source": [
    "# create a methane molecule in ASE\n",
    "coordinates = [[0.03192167, 0.00638559, 0.01301679],\n",
    "[-0.83140486, 0.39370209, -0.26395324],\n",
    "[-0.66518241, -0.84461308, 0.20759389],\n",
    "[0.45554739, 0.54289633, 0.81170881],\n",
    "[0.66091919, -0.16799635, -0.91037834]]\n",
    "\n",
    "CH4 = ase.Atoms(['C', 'H', 'H', 'H', 'H'], positions=coordinates)\n",
    "\n",
    "# get species tensor, coords\n",
    "species = torch.tensor([spe_to_int(CH4.get_atomic_numbers())], device=device) \n",
    "\n",
    "coordinates = torch.tensor([CH4.get_positions()], requires_grad=True, device=device)\n",
    "\n",
    "print(species)\n",
    "print(coordinates)\n",
    "\n",
    "# get the AEV\n",
    "aev_result=aev_computer((species, coordinates), cell=None, pbc=None)\n",
    "\n",
    "print('Species:',aev_result.species)\n",
    "print('AEV:',aev_result.aevs)\n",
    "\n",
    "print('AEV Length:',aev_computer.aev_length)\n",
    "print('AEV Shape:',aev_result.aevs.size())"
   ]
  },
  {
   "cell_type": "markdown",
   "metadata": {},
   "source": [
    "### Example 2 (single molecule load directly)"
   ]
  },
  {
   "cell_type": "code",
   "execution_count": 4,
   "metadata": {},
   "outputs": [
    {
     "name": "stdout",
     "output_type": "stream",
     "text": [
      "Species: tensor([[1, 0, 0, 0, 0]], device='cuda:0')\n",
      "AEV: tensor([[[5.5878e-01, 7.4497e-01, 1.2186e-01,  ..., 0.0000e+00,\n",
      "          0.0000e+00, 0.0000e+00],\n",
      "         [1.0193e-02, 1.3975e-01, 3.0345e-01,  ..., 0.0000e+00,\n",
      "          0.0000e+00, 0.0000e+00],\n",
      "         [1.0179e-02, 1.3571e-01, 1.9645e-01,  ..., 0.0000e+00,\n",
      "          0.0000e+00, 0.0000e+00],\n",
      "         [1.0318e-05, 2.8428e-03, 8.7991e-02,  ..., 0.0000e+00,\n",
      "          0.0000e+00, 0.0000e+00],\n",
      "         [4.0563e-06, 1.5859e-03, 7.0698e-02,  ..., 0.0000e+00,\n",
      "          0.0000e+00, 0.0000e+00]]], device='cuda:0', grad_fn=<CatBackward>)\n",
      "AEV Length: 384\n",
      "AEV Shape: torch.Size([1, 5, 384])\n"
     ]
    }
   ],
   "source": [
    "coordinates = torch.tensor(\n",
    "    [[[0.03192167, 0.00638559, 0.01301679],\n",
    "      [-0.83140486, 0.39370209, -0.26395324],\n",
    "      [-0.66518241, -0.84461308, 0.20759389],\n",
    "      [0.45554739, 0.54289633, 0.81170881],\n",
    "      [0.66091919, -0.16799635, -0.91037834]]],\n",
    "    requires_grad=True,\n",
    "    device=device)\n",
    "\n",
    "species = torch.tensor([[1, 0, 0, 0, 0]], device=device)\n",
    "\n",
    "# get the AEV\n",
    "aev_result=aev_computer((species, coordinates), cell=None, pbc=None)\n",
    "\n",
    "print('Species:',aev_result.species)\n",
    "print('AEV:',aev_result.aevs)\n",
    "\n",
    "print('AEV Length:',aev_computer.aev_length)\n",
    "print('AEV Shape:',aev_result.aevs.size())"
   ]
  },
  {
   "cell_type": "markdown",
   "metadata": {},
   "source": [
    "### Example 3 (multiple molecule with ASE)"
   ]
  },
  {
   "cell_type": "code",
   "execution_count": 5,
   "metadata": {},
   "outputs": [],
   "source": [
    "def pad_ase_molecule(mol_list, device):\n",
    "    \"\"\"\n",
    "    input: ase molecule list\n",
    "    return: [species, coordinates]\n",
    "            padded species and coordinates input for torchani (in torch tensor)\n",
    "    \"\"\"\n",
    "    species = []\n",
    "    coordinates = []\n",
    "    for mol in mol_list:\n",
    "        species.append(torch.from_numpy(spe_to_int(mol.get_atomic_numbers())).to(device))\n",
    "        coordinates.append(torch.from_numpy(mol.get_positions()).to(device))\n",
    "    # before padding\n",
    "    print(\"before padding\")\n",
    "    print(species)\n",
    "    print(coordinates)\n",
    "    # after padding\n",
    "    print(\"after padding\")\n",
    "    species = torch.nn.utils.rnn.pad_sequence(species,\n",
    "                                              batch_first=True,\n",
    "                                              padding_value=-1,)\n",
    "    coordinates = torch.nn.utils.rnn.pad_sequence(coordinates,\n",
    "                                              batch_first=True,\n",
    "                                              padding_value=0.0, )\n",
    "\n",
    "    print(species)\n",
    "    print(coordinates)\n",
    "    return species, coordinates"
   ]
  },
  {
   "cell_type": "code",
   "execution_count": 6,
   "metadata": {},
   "outputs": [
    {
     "name": "stdout",
     "output_type": "stream",
     "text": [
      "[7 1 1 1]\n",
      "[6 1 1 1 1]\n"
     ]
    }
   ],
   "source": [
    "NH3 = molecule('NH3')\n",
    "CH4 = molecule('CH4')\n",
    "print(NH3.get_atomic_numbers())\n",
    "print(CH4.get_atomic_numbers())"
   ]
  },
  {
   "cell_type": "code",
   "execution_count": 7,
   "metadata": {},
   "outputs": [
    {
     "name": "stdout",
     "output_type": "stream",
     "text": [
      "before padding\n",
      "[tensor([2, 0, 0, 0], device='cuda:0'), tensor([1, 0, 0, 0, 0], device='cuda:0')]\n",
      "[tensor([[ 0.0000,  0.0000,  0.1165],\n",
      "        [ 0.0000,  0.9397, -0.2718],\n",
      "        [ 0.8138, -0.4699, -0.2718],\n",
      "        [-0.8138, -0.4699, -0.2718]], device='cuda:0', dtype=torch.float64), tensor([[ 0.0000,  0.0000,  0.0000],\n",
      "        [ 0.6291,  0.6291,  0.6291],\n",
      "        [-0.6291, -0.6291,  0.6291],\n",
      "        [ 0.6291, -0.6291, -0.6291],\n",
      "        [-0.6291,  0.6291, -0.6291]], device='cuda:0', dtype=torch.float64)]\n",
      "after padding\n",
      "tensor([[ 2,  0,  0,  0, -1],\n",
      "        [ 1,  0,  0,  0,  0]], device='cuda:0')\n",
      "tensor([[[ 0.0000,  0.0000,  0.1165],\n",
      "         [ 0.0000,  0.9397, -0.2718],\n",
      "         [ 0.8138, -0.4699, -0.2718],\n",
      "         [-0.8138, -0.4699, -0.2718],\n",
      "         [ 0.0000,  0.0000,  0.0000]],\n",
      "\n",
      "        [[ 0.0000,  0.0000,  0.0000],\n",
      "         [ 0.6291,  0.6291,  0.6291],\n",
      "         [-0.6291, -0.6291,  0.6291],\n",
      "         [ 0.6291, -0.6291, -0.6291],\n",
      "         [-0.6291,  0.6291, -0.6291]]], device='cuda:0', dtype=torch.float64)\n"
     ]
    }
   ],
   "source": [
    "# species are padded with -1\n",
    "# coordinates are padded with 0\n",
    "species, coordinates = pad_ase_molecule([NH3, CH4], device)"
   ]
  },
  {
   "cell_type": "code",
   "execution_count": 8,
   "metadata": {},
   "outputs": [
    {
     "name": "stdout",
     "output_type": "stream",
     "text": [
      "Species: tensor([[ 2,  0,  0,  0, -1],\n",
      "        [ 1,  0,  0,  0,  0]], device='cuda:0')\n",
      "AEV: tensor([[[5.4783e-01, 4.7095e-01, 4.0137e-02,  ..., 0.0000e+00,\n",
      "          0.0000e+00, 0.0000e+00],\n",
      "         [8.1316e-05, 1.3368e-02, 2.1786e-01,  ..., 0.0000e+00,\n",
      "          0.0000e+00, 0.0000e+00],\n",
      "         [8.1315e-05, 1.3368e-02, 2.1786e-01,  ..., 0.0000e+00,\n",
      "          0.0000e+00, 0.0000e+00],\n",
      "         [8.1315e-05, 1.3368e-02, 2.1786e-01,  ..., 0.0000e+00,\n",
      "          0.0000e+00, 0.0000e+00],\n",
      "         [0.0000e+00, 0.0000e+00, 0.0000e+00,  ..., 0.0000e+00,\n",
      "          0.0000e+00, 0.0000e+00]],\n",
      "\n",
      "        [[5.0362e-01, 8.1023e-01, 1.2923e-01,  ..., 0.0000e+00,\n",
      "          0.0000e+00, 0.0000e+00],\n",
      "         [2.3394e-06, 1.4183e-03, 8.5248e-02,  ..., 0.0000e+00,\n",
      "          0.0000e+00, 0.0000e+00],\n",
      "         [2.3394e-06, 1.4183e-03, 8.5248e-02,  ..., 0.0000e+00,\n",
      "          0.0000e+00, 0.0000e+00],\n",
      "         [2.3394e-06, 1.4183e-03, 8.5248e-02,  ..., 0.0000e+00,\n",
      "          0.0000e+00, 0.0000e+00],\n",
      "         [2.3394e-06, 1.4183e-03, 8.5248e-02,  ..., 0.0000e+00,\n",
      "          0.0000e+00, 0.0000e+00]]], device='cuda:0', dtype=torch.float64)\n",
      "AEV Length: 384\n",
      "AEV Shape: torch.Size([2, 5, 384])\n"
     ]
    }
   ],
   "source": [
    "# get the AEV\n",
    "aev_result=aev_computer((species, coordinates), cell=None, pbc=None)\n",
    "\n",
    "print('Species:',aev_result.species)\n",
    "print('AEV:',aev_result.aevs)\n",
    "\n",
    "print('AEV Length:',aev_computer.aev_length)\n",
    "print('AEV Shape:',aev_result.aevs.size())"
   ]
  },
  {
   "cell_type": "markdown",
   "metadata": {},
   "source": [
    "### Example 4 (multiple molecule load directly)"
   ]
  },
  {
   "cell_type": "code",
   "execution_count": 9,
   "metadata": {},
   "outputs": [
    {
     "name": "stdout",
     "output_type": "stream",
     "text": [
      "Species: tensor([[ 1,  0,  0,  0,  0],\n",
      "        [ 2,  0,  0,  0, -1]], device='cuda:0')\n",
      "AEV: tensor([[[5.5878e-01, 7.4497e-01, 1.2186e-01,  ..., 0.0000e+00,\n",
      "          0.0000e+00, 0.0000e+00],\n",
      "         [1.0193e-02, 1.3975e-01, 3.0345e-01,  ..., 0.0000e+00,\n",
      "          0.0000e+00, 0.0000e+00],\n",
      "         [1.0179e-02, 1.3571e-01, 1.9645e-01,  ..., 0.0000e+00,\n",
      "          0.0000e+00, 0.0000e+00],\n",
      "         [1.0318e-05, 2.8428e-03, 8.7991e-02,  ..., 0.0000e+00,\n",
      "          0.0000e+00, 0.0000e+00],\n",
      "         [4.0563e-06, 1.5859e-03, 7.0698e-02,  ..., 0.0000e+00,\n",
      "          0.0000e+00, 0.0000e+00]],\n",
      "\n",
      "        [[5.4306e-01, 4.7579e-01, 4.1326e-02,  ..., 0.0000e+00,\n",
      "          0.0000e+00, 0.0000e+00],\n",
      "         [8.1441e-05, 1.3381e-02, 2.1795e-01,  ..., 0.0000e+00,\n",
      "          0.0000e+00, 0.0000e+00],\n",
      "         [8.1441e-05, 1.3381e-02, 2.1795e-01,  ..., 0.0000e+00,\n",
      "          0.0000e+00, 0.0000e+00],\n",
      "         [8.1437e-05, 1.3381e-02, 2.1795e-01,  ..., 0.0000e+00,\n",
      "          0.0000e+00, 0.0000e+00],\n",
      "         [0.0000e+00, 0.0000e+00, 0.0000e+00,  ..., 0.0000e+00,\n",
      "          0.0000e+00, 0.0000e+00]]], device='cuda:0', grad_fn=<CatBackward>)\n",
      "AEV Length: 384\n",
      "AEV Shape: torch.Size([2, 5, 384])\n"
     ]
    }
   ],
   "source": [
    "coordinates = torch.tensor(\n",
    "    [[[0.03192167, 0.00638559, 0.01301679],\n",
    "      [-0.83140486, 0.39370209, -0.26395324],\n",
    "      [-0.66518241, -0.84461308, 0.20759389],\n",
    "      [0.45554739, 0.54289633, 0.81170881],\n",
    "      [0.66091919, -0.16799635, -0.91037834]],\n",
    "     [[-4.1862600, 0.0575700, -0.0381200], \n",
    "      [-3.1689400, 0.0523700, 0.0200000],\n",
    "      [-4.4978600, 0.8211300, 0.5604100], \n",
    "      [-4.4978700, -0.8000100, 0.4155600],\n",
    "      [0.00000000, -0.00000000, -0.00000000]]],\n",
    "    requires_grad=True,\n",
    "    device=device)\n",
    "\n",
    "species = torch.tensor([[1, 0, 0, 0, 0], [2, 0, 0, 0, -1]], device=device)\n",
    "\n",
    "# get the AEV\n",
    "aev_result=aev_computer((species, coordinates), cell=None, pbc=None)\n",
    "\n",
    "print('Species:',aev_result.species)\n",
    "print('AEV:',aev_result.aevs)\n",
    "\n",
    "print('AEV Length:',aev_computer.aev_length)\n",
    "print('AEV Shape:',aev_result.aevs.size())"
   ]
  }
 ],
 "metadata": {
  "jupytext": {
   "cell_metadata_filter": "-all",
   "formats": "ipynb,py:light",
   "notebook_metadata_filter": "-all"
  },
  "kernelspec": {
   "display_name": "Python 3",
   "language": "python",
   "name": "python3"
  },
  "language_info": {
   "codemirror_mode": {
    "name": "ipython",
    "version": 3
   },
   "file_extension": ".py",
   "mimetype": "text/x-python",
   "name": "python",
   "nbconvert_exporter": "python",
   "pygments_lexer": "ipython3",
   "version": "3.6.10"
  }
 },
 "nbformat": 4,
 "nbformat_minor": 4
}
